{
 "cells": [
  {
   "cell_type": "code",
   "execution_count": 6,
   "metadata": {},
   "outputs": [],
   "source": [
    "from mpl_toolkits.mplot3d import Axes3D\n",
    "import matplotlib.pyplot as plt\n",
    "import numpy as np\n",
    "import pandas as pd\n",
    "import plotly.graph_objs as go\n",
    "import plotly.tools as tls\n",
    "import time\n",
    "import plotly\n",
    "import glob\n",
    "import os"
   ]
  },
  {
   "cell_type": "code",
   "execution_count": 51,
   "metadata": {},
   "outputs": [
    {
     "data": {
      "text/html": [
       "<script type=\"text/javascript\">window.PlotlyConfig = {MathJaxConfig: 'local'};</script><script type=\"text/javascript\">if (window.MathJax) {MathJax.Hub.Config({SVG: {font: \"STIX-Web\"}});}</script><script>requirejs.config({paths: { 'plotly': ['https://cdn.plot.ly/plotly-latest.min']},});if(!window._Plotly) {require(['plotly'],function(plotly) {window._Plotly=plotly;});}</script>"
      ],
      "text/vnd.plotly.v1+html": [
       "<script type=\"text/javascript\">window.PlotlyConfig = {MathJaxConfig: 'local'};</script><script type=\"text/javascript\">if (window.MathJax) {MathJax.Hub.Config({SVG: {font: \"STIX-Web\"}});}</script><script>requirejs.config({paths: { 'plotly': ['https://cdn.plot.ly/plotly-latest.min']},});if(!window._Plotly) {require(['plotly'],function(plotly) {window._Plotly=plotly;});}</script>"
      ]
     },
     "metadata": {},
     "output_type": "display_data"
    }
   ],
   "source": [
    "plotly.offline.init_notebook_mode(connected=True) "
   ]
  },
  {
   "cell_type": "code",
   "execution_count": 52,
   "metadata": {},
   "outputs": [],
   "source": [
    "gt_path = '/raid/data/Datasets/PublicDatasets/KITTI/kitti-raw-uncompressed/2011_09_26/2011_09_26_drive_0009_sync/oxts/data'\n",
    "prediction_path = '/home/trn_ak/git_clones/models/research/vid2depth/inference_validation_egomotion'"
   ]
  },
  {
   "cell_type": "code",
   "execution_count": 53,
   "metadata": {},
   "outputs": [],
   "source": [
    "#data_gt=pd.read_csv(r'/home/trn_ak/git_clones/models/research/vid2depth/plan.txt',sep= '\\t',header=None)\n",
    "data_delta=pd.read_csv('/home/trn_ak/git_clones/models/research/vid2depth/inference_validation_egomotion/inference.txt',sep= '\\t',header=None)\n",
    "\n",
    "for gt_file in sorted(os.listdir(gt_path)):\n",
    "        with open(os.path.join(gt_path, gt_file)) as gt_pose_file:\n",
    "            data_gt=pd.read_csv(os.path.join(gt_path, gt_file),sep= '\\t',header=None)\n",
    "            #print(data_gt[0][0])\n",
    "    #data_pred = data_gt + data_delta\n",
    "    \n",
    "#print(data_delta[0][0])"
   ]
  },
  {
   "cell_type": "code",
   "execution_count": 57,
   "metadata": {},
   "outputs": [
    {
     "data": {
      "application/vnd.plotly.v1+json": {
       "config": {
        "linkText": "Export to plot.ly",
        "plotlyServerURL": "https://plot.ly",
        "showLink": false
       },
       "data": [
        {
         "line": {
          "width": 2.5
         },
         "marker": {
          "size": 5.5
         },
         "mode": "lines+markers",
         "name": "Ground Truth",
         "type": "scatter",
         "uid": "15840b18-bc06-45eb-8ace-909f12e32e6e",
         "x": [
          49.009344871709,
          8.4371499178574,
          114.45387268066,
          0.073139,
          -0.000124,
          -0.2696086732051
         ],
         "y": [
          49.009342262652,
          8.4371640536639,
          114.45874786377,
          0.06977,
          0.002527,
          -0.2696576732051
         ]
        },
        {
         "line": {
          "width": 1.5
         },
         "marker": {
          "color": "Red",
          "size": 3.5
         },
         "mode": "lines+markers",
         "name": "Prediction",
         "opacity": 0.7,
         "type": "scatter",
         "uid": "5a2fdc74-41c2-4d96-abf6-3e82ef05a109",
         "x": [
          49.007137720299,
          8.436350995237499,
          114.49923019457,
          0.0741883504,
          -0.0061805754,
          -0.27102040960510004
         ],
         "y": [
          49.007134831409,
          8.4363664822574,
          114.49658279466,
          0.0750853504,
          -0.0078705754,
          -0.27090240960510004
         ]
        }
       ],
       "layout": {
        "hovermode": "closest",
        "showlegend": true,
        "title": {
         "text": "KITTI Ground Truth vs vid2depth Pred"
        },
        "xaxis": {
         "gridwidth": 2,
         "ticklen": 5,
         "title": {
          "text": "Latitude"
         },
         "zeroline": false
        },
        "yaxis": {
         "gridwidth": 2,
         "ticklen": 5,
         "title": {
          "text": "Longitude"
         },
         "zeroline": true
        }
       }
      },
      "text/html": [
       "<div id=\"ce7378d4-c668-4752-b007-6aca7fcec68c\" style=\"height: 525px; width: 100%;\" class=\"plotly-graph-div\"></div><script type=\"text/javascript\">require([\"plotly\"], function(Plotly) { window.PLOTLYENV=window.PLOTLYENV || {};window.PLOTLYENV.BASE_URL=\"https://plot.ly\";Plotly.newPlot(\"ce7378d4-c668-4752-b007-6aca7fcec68c\", [{\"name\": \"Ground Truth\", \"marker\": {\"size\": 5.5}, \"mode\": \"lines+markers\", \"y\": [49.009342262652, 8.4371640536639, 114.45874786377, 0.06977, 0.002527, -0.2696576732051], \"x\": [49.009344871709, 8.4371499178574, 114.45387268066, 0.073139, -0.000124, -0.2696086732051], \"line\": {\"width\": 2.5}, \"type\": \"scatter\", \"uid\": \"15840b18-bc06-45eb-8ace-909f12e32e6e\"}, {\"opacity\": 0.7, \"name\": \"Prediction\", \"marker\": {\"color\": \"Red\", \"size\": 3.5}, \"mode\": \"lines+markers\", \"y\": [49.007134831409, 8.4363664822574, 114.49658279466, 0.0750853504, -0.0078705754, -0.27090240960510004], \"x\": [49.007137720299, 8.436350995237499, 114.49923019457, 0.0741883504, -0.0061805754, -0.27102040960510004], \"line\": {\"width\": 1.5}, \"type\": \"scatter\", \"uid\": \"5a2fdc74-41c2-4d96-abf6-3e82ef05a109\"}], {\"hovermode\": \"closest\", \"title\": {\"text\": \"KITTI Ground Truth vs vid2depth Pred\"}, \"showlegend\": true, \"xaxis\": {\"zeroline\": false, \"ticklen\": 5, \"gridwidth\": 2, \"title\": {\"text\": \"Latitude\"}}, \"yaxis\": {\"zeroline\": true, \"ticklen\": 5, \"gridwidth\": 2, \"title\": {\"text\": \"Longitude\"}}}, {\"plotlyServerURL\": \"https://plot.ly\", \"linkText\": \"Export to plot.ly\", \"showLink\": false})});</script><script type=\"text/javascript\">window.addEventListener(\"resize\", function(){window._Plotly.Plots.resize(document.getElementById(\"ce7378d4-c668-4752-b007-6aca7fcec68c\"));});</script>"
      ],
      "text/vnd.plotly.v1+html": [
       "<div id=\"ce7378d4-c668-4752-b007-6aca7fcec68c\" style=\"height: 525px; width: 100%;\" class=\"plotly-graph-div\"></div><script type=\"text/javascript\">require([\"plotly\"], function(Plotly) { window.PLOTLYENV=window.PLOTLYENV || {};window.PLOTLYENV.BASE_URL=\"https://plot.ly\";Plotly.newPlot(\"ce7378d4-c668-4752-b007-6aca7fcec68c\", [{\"name\": \"Ground Truth\", \"marker\": {\"size\": 5.5}, \"mode\": \"lines+markers\", \"y\": [49.009342262652, 8.4371640536639, 114.45874786377, 0.06977, 0.002527, -0.2696576732051], \"x\": [49.009344871709, 8.4371499178574, 114.45387268066, 0.073139, -0.000124, -0.2696086732051], \"line\": {\"width\": 2.5}, \"type\": \"scatter\", \"uid\": \"15840b18-bc06-45eb-8ace-909f12e32e6e\"}, {\"opacity\": 0.7, \"name\": \"Prediction\", \"marker\": {\"color\": \"Red\", \"size\": 3.5}, \"mode\": \"lines+markers\", \"y\": [49.007134831409, 8.4363664822574, 114.49658279466, 0.0750853504, -0.0078705754, -0.27090240960510004], \"x\": [49.007137720299, 8.436350995237499, 114.49923019457, 0.0741883504, -0.0061805754, -0.27102040960510004], \"line\": {\"width\": 1.5}, \"type\": \"scatter\", \"uid\": \"5a2fdc74-41c2-4d96-abf6-3e82ef05a109\"}], {\"hovermode\": \"closest\", \"title\": {\"text\": \"KITTI Ground Truth vs vid2depth Pred\"}, \"showlegend\": true, \"xaxis\": {\"zeroline\": false, \"ticklen\": 5, \"gridwidth\": 2, \"title\": {\"text\": \"Latitude\"}}, \"yaxis\": {\"zeroline\": true, \"ticklen\": 5, \"gridwidth\": 2, \"title\": {\"text\": \"Longitude\"}}}, {\"plotlyServerURL\": \"https://plot.ly\", \"linkText\": \"Export to plot.ly\", \"showLink\": false})});</script><script type=\"text/javascript\">window.addEventListener(\"resize\", function(){window._Plotly.Plots.resize(document.getElementById(\"ce7378d4-c668-4752-b007-6aca7fcec68c\"));});</script>"
      ]
     },
     "metadata": {},
     "output_type": "display_data"
    },
    {
     "name": "stdout",
     "output_type": "stream",
     "text": [
      "ATE mean: 5.07193671815e-05, std: 1.64581257613e-05\n"
     ]
    }
   ],
   "source": [
    "import numpy as np\n",
    "import os\n",
    "#import cv, cv2\n",
    "import argparse\n",
    "import tensorflow as tf\n",
    "from absl import logging\n",
    "import csv\n",
    "#from evaluation_utils import *\n",
    "\n",
    "#parser = argparse.ArgumentParser(description='Evaluation on the KITTI dataset')\n",
    "#parser.add_argument('--split',               type=str,   help='data split, kitti or eigen',         required=True)\n",
    "#parser.add_argument('--prediction_path', type=str,   help='path to estimated disparities',      required=True)\n",
    "#parser.add_argument('--gt_path',             type=str,   help='path to ground truth disparities',   required=True)\n",
    "#parser.add_argument('--min_threshold',           type=float, help='minimum threshold for depth/pose evaluation',        default=1e-3)\n",
    "#parser.add_argument('--max_threshold',           type=float, help='maximum threshold for depth/pose evaluation',        default=80)\n",
    "#parser.add_argument('--eigen_crop',                      help='if set, crops according to Eigen NIPS14',   action='store_true')\n",
    "\n",
    "#args = parser.parse_args()\n",
    "gfile = tf.gfile\n",
    "split = 'kitti'\n",
    "\n",
    "if __name__ == '__main__':\n",
    "\n",
    "    if split == 'kitti':\n",
    "        NUM_SAMPLES = 447\n",
    "        \n",
    "        if os.path.exists(prediction_path) and os.path.exists(gt_path):\n",
    "            with open(os.path.join(prediction_path, 'inference.txt')) as pred_file:\n",
    "                                \n",
    "                    pred_reader = csv.reader(pred_file, delimiter=' ')\n",
    "                    row_count = 0 \n",
    "                    gt_prev_pose = []\n",
    "                    ate_all = []\n",
    "                    gt_all = []\n",
    "                    pred_all = []\n",
    "                    \n",
    "                    for pred_row, gt_file in zip(pred_reader, sorted(os.listdir(gt_path))):\n",
    "                        with open(pred_row[0]) as pred_pose_file, open(os.path.join(gt_path, gt_file)) as gt_pose_file:\n",
    "\n",
    "                            pred_pose_reader = csv.reader(pred_pose_file, delimiter=' ')\n",
    "                            gt_pose_reader = csv.reader(gt_pose_file, delimiter=' ')                            \n",
    "                            #    DEBUG: To print the no. of rows in the file\n",
    "                            #    a = sum(1 for line in gt_pose_file)\n",
    "\n",
    "                            for delta_pose, gt_pose in zip(pred_pose_reader, gt_pose_reader):\n",
    "                                gt_curr_pose = np.array([float(value) for value in gt_pose[0:6]])\n",
    "                                delta_pose = np.array([float(value) for value in delta_pose])\n",
    "#                                gt_curr_pose = [float(value) for value in gt_pose[0:6]]\n",
    "#                                delta_pose = [float(value) for value in delta_pose]\n",
    "\n",
    "                                if row_count == 0:\n",
    "                                    gt_prev_pose = gt_curr_pose\n",
    "                                else:\n",
    "#                                    pred_pose = gt_prev_pose + delta_pose\n",
    "                                    pred_pose = np.add(gt_prev_pose, delta_pose)\n",
    "                                    scale = np.sum(gt_curr_pose * pred_pose)/np.sum(pred_pose ** 2)\n",
    "                                    alignment_error = pred_pose * scale - gt_curr_pose \n",
    "#                                    rmse = np.sqrt(np.sum(alignment_error ** 2)))/len()\n",
    "                                    rmse = np.sqrt(np.sum(alignment_error ** 2))/ NUM_SAMPLES\n",
    "                                    ate_all.append(rmse)\n",
    "                                    gt_prev_pose = gt_curr_pose\n",
    "                                    gt_all.append(gt_curr_pose)\n",
    "                                    pred_all.append(pred_pose)\n",
    "                                   \n",
    "                   \n",
    "#                                    print(\"ROW Count {}\".format(row_count))\n",
    "#                                    print(\"gt_curr_pose : {}\".format(gt_curr_pose[0]))\n",
    "#                                    print(\"pred_pose lat: {}\".format(pred_pose[0]))\n",
    "\n",
    "#\n",
    "                            row_count += 1\n",
    "                    scatter_plot(pred_all, gt_all)\n",
    "\n",
    "                    ate_all = np.array(ate_all)\n",
    "                    print(\"ATE mean: {}, std: {}\".format(np.mean(ate_all), np.std(ate_all)))\n"
   ]
  },
  {
   "cell_type": "code",
   "execution_count": 56,
   "metadata": {},
   "outputs": [],
   "source": [
    "def scatter_plot(pred_pose, gt_pose):\n",
    "    trace_gt = go.Scatter(x = gt_pose[0],\n",
    "                          y = gt_pose[1], \n",
    "                          mode = 'lines+markers', \n",
    "                          name= 'Ground Truth',\n",
    "                          line=dict(width= 2.5),\n",
    "                          marker=dict(\n",
    "                                  size=5.5,\n",
    "                             ))\n",
    "\n",
    "    trace_pred = go.Scatter(x = pred_pose[0],\n",
    "                          y = pred_pose[1], \n",
    "                          mode = 'lines+markers', \n",
    "                          name= 'Prediction',\n",
    "                          line=dict(width= 1.5),\n",
    "                        opacity=0.7\n",
    "                            ,\n",
    "                          marker=dict(\n",
    "                                  size=3.5,\n",
    "                              color='Red'\n",
    "                             ))\n",
    "\n",
    "    data = [trace_gt, trace_pred]\n",
    "\n",
    "    layout= go.Layout(\n",
    "        title= 'KITTI Ground Truth vs vid2depth Pred',\n",
    "        hovermode= 'closest',\n",
    "        xaxis= dict(\n",
    "            title= 'Latitude',\n",
    "            ticklen= 5,\n",
    "            zeroline= False,\n",
    "            gridwidth= 2,\n",
    "        ),\n",
    "        yaxis=dict(\n",
    "            title= 'Longitude',\n",
    "            ticklen= 5,\n",
    "            zeroline= True,\n",
    "            gridwidth= 2,\n",
    "        ),\n",
    "\n",
    "        showlegend= True\n",
    "    )\n",
    "    fig= go.Figure(data=data, layout=layout)\n",
    "\n",
    "    # Plot in a different tab!\n",
    "    #plotly.offline.plot(fig, filename='vid2depth.html')   \n",
    "    #plotly.plot(fig, filename='vid2depth.html')\n",
    "\n",
    "    plotly.offline.iplot(fig, filename='Agv_pathVspose.html')   #To plot within the noteook\n"
   ]
  },
  {
   "cell_type": "code",
   "execution_count": null,
   "metadata": {},
   "outputs": [],
   "source": []
  }
 ],
 "metadata": {
  "kernelspec": {
   "display_name": "Python 2",
   "language": "python",
   "name": "python2"
  },
  "language_info": {
   "codemirror_mode": {
    "name": "ipython",
    "version": 2
   },
   "file_extension": ".py",
   "mimetype": "text/x-python",
   "name": "python",
   "nbconvert_exporter": "python",
   "pygments_lexer": "ipython2",
   "version": "2.7.12"
  }
 },
 "nbformat": 4,
 "nbformat_minor": 2
}
